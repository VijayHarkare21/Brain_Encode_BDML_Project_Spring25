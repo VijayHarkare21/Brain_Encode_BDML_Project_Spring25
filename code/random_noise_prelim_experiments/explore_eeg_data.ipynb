{
 "cells": [
  {
   "cell_type": "code",
   "execution_count": 38,
   "id": "9db05a4d-03df-4dfa-8af7-54a317955249",
   "metadata": {},
   "outputs": [],
   "source": [
    "import numpy as np\n",
    "import os\n",
    "import torch"
   ]
  },
  {
   "cell_type": "code",
   "execution_count": 5,
   "id": "ba8980c0-c59f-4c3b-8c0e-fc3dc281d3a3",
   "metadata": {},
   "outputs": [],
   "source": [
    "image_eeg_tmp = r\"/scratch/vjh9526/bdml_2025/project/datasets/THINGS-EEG/eeg_dataset/embeds/sub-01_training_embeds.npy\""
   ]
  },
  {
   "cell_type": "code",
   "execution_count": 11,
   "id": "929c7b1f-b85a-4afc-8071-71c9a43cf8d8",
   "metadata": {},
   "outputs": [],
   "source": [
    "image_eeg = np.load(image_eeg_tmp, allow_pickle=True).item()"
   ]
  },
  {
   "cell_type": "code",
   "execution_count": 12,
   "id": "c69dff7e-73ad-4271-816e-b265b8c2fb48",
   "metadata": {},
   "outputs": [
    {
     "data": {
      "text/plain": [
       "dict_keys(['embeds_cbramod', 'img_paths', 'ch_names', 'times', 'embeds_labram'])"
      ]
     },
     "execution_count": 12,
     "metadata": {},
     "output_type": "execute_result"
    }
   ],
   "source": [
    "image_eeg.keys()"
   ]
  },
  {
   "cell_type": "code",
   "execution_count": 15,
   "id": "09d5f96a-da6b-4df6-aa4f-2b4bae499eb5",
   "metadata": {},
   "outputs": [
    {
     "data": {
      "text/plain": [
       "((16540, 200), (16540, 600))"
      ]
     },
     "execution_count": 15,
     "metadata": {},
     "output_type": "execute_result"
    }
   ],
   "source": [
    "image_eeg[\"embeds_labram\"].shape,image_eeg[\"embeds_cbramod\"].shape"
   ]
  },
  {
   "cell_type": "code",
   "execution_count": 32,
   "id": "3b1a118a-bdef-4021-aa5d-e4e75806342b",
   "metadata": {},
   "outputs": [
    {
     "data": {
      "text/plain": [
       "(3.077697, 0.17236044, -11.611212, -0.014464289)"
      ]
     },
     "execution_count": 32,
     "metadata": {},
     "output_type": "execute_result"
    }
   ],
   "source": [
    "image_eeg[\"embeds_labram\"].max(),image_eeg[\"embeds_cbramod\"].max(),image_eeg[\"embeds_labram\"].min(),image_eeg[\"embeds_cbramod\"].min()"
   ]
  },
  {
   "cell_type": "code",
   "execution_count": 18,
   "id": "11e0f7ec-ab0b-4ddc-9572-5c4dc755b946",
   "metadata": {},
   "outputs": [],
   "source": [
    "text_eeg_tmp = r\"/scratch/vjh9526/bdml_2025/project/datasets/ZuCo2/2urht/osfstorage/task1 - NR/npy_file/embeds/task1-NR-2.0-YAC-dataset_embeds.npy\"\n"
   ]
  },
  {
   "cell_type": "code",
   "execution_count": 19,
   "id": "bcb8153a-0513-43bb-a992-2b12d1aa7928",
   "metadata": {},
   "outputs": [],
   "source": [
    "text_eeg = np.load(text_eeg_tmp, allow_pickle=True).item()"
   ]
  },
  {
   "cell_type": "code",
   "execution_count": 20,
   "id": "ca5ea382-b0b4-447f-9f0d-b9d1fd8ccd2f",
   "metadata": {},
   "outputs": [
    {
     "data": {
      "text/plain": [
       "dict_keys(['YAC'])"
      ]
     },
     "execution_count": 20,
     "metadata": {},
     "output_type": "execute_result"
    }
   ],
   "source": [
    "text_eeg.keys()"
   ]
  },
  {
   "cell_type": "code",
   "execution_count": 48,
   "id": "103862f6-d161-4733-900d-68c79a43a0b0",
   "metadata": {},
   "outputs": [
    {
     "data": {
      "text/plain": [
       "((1, 600), (1, 200))"
      ]
     },
     "execution_count": 48,
     "metadata": {},
     "output_type": "execute_result"
    }
   ],
   "source": [
    "text_eeg[\"YAC\"][0][\"embeds_cbramod\"].shape,text_eeg[\"YAC\"][0][\"embeds_labram\"].numpy().shape"
   ]
  },
  {
   "cell_type": "code",
   "execution_count": 34,
   "id": "bdcc9c4c-84ae-486e-bd27-7fa160180642",
   "metadata": {},
   "outputs": [
    {
     "data": {
      "text/plain": [
       "(0.1579024, tensor(2.2447), -0.010354713, tensor(-10.9507))"
      ]
     },
     "execution_count": 34,
     "metadata": {},
     "output_type": "execute_result"
    }
   ],
   "source": [
    "text_eeg[\"YAC\"][0][\"embeds_cbramod\"].max(),text_eeg[\"YAC\"][0][\"embeds_labram\"].max(),text_eeg[\"YAC\"][0][\"embeds_cbramod\"].min(),text_eeg[\"YAC\"][0][\"embeds_labram\"].min()"
   ]
  },
  {
   "cell_type": "code",
   "execution_count": 41,
   "id": "00173125-c798-4722-bd42-ecc44815f3b8",
   "metadata": {},
   "outputs": [
    {
     "data": {
      "text/plain": [
       "(True, True)"
      ]
     },
     "execution_count": 41,
     "metadata": {},
     "output_type": "execute_result"
    }
   ],
   "source": [
    "isinstance(text_eeg[\"YAC\"][0][\"embeds_labram\"], torch.Tensor),isinstance(text_eeg[\"YAC\"][0][\"embeds_cbramod\"], np.ndarray)"
   ]
  },
  {
   "cell_type": "code",
   "execution_count": null,
   "id": "ebec04d3-e7ec-4954-996b-ecb8140d427e",
   "metadata": {},
   "outputs": [],
   "source": []
  }
 ],
 "metadata": {
  "kernelspec": {
   "display_name": "my_env",
   "language": "python",
   "name": "my_env"
  },
  "language_info": {
   "codemirror_mode": {
    "name": "ipython",
    "version": 3
   },
   "file_extension": ".py",
   "mimetype": "text/x-python",
   "name": "python",
   "nbconvert_exporter": "python",
   "pygments_lexer": "ipython3",
   "version": "3.11.10"
  }
 },
 "nbformat": 4,
 "nbformat_minor": 5
}
