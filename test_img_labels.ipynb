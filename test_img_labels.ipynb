{
 "cells": [
  {
   "cell_type": "code",
   "execution_count": 7,
   "id": "e90aa521-c4ad-4f29-acc3-85af510098f6",
   "metadata": {},
   "outputs": [],
   "source": [
    "import numpy as np\n",
    "import pandas as pd\n",
    "import os"
   ]
  },
  {
   "cell_type": "code",
   "execution_count": 2,
   "id": "15d2ac77-be8f-4327-9f54-99ee0fa71b42",
   "metadata": {},
   "outputs": [],
   "source": [
    "def load_image_labels(metadata_path: str, things_map_path: str):\n",
    "    \"\"\"Load image labels from metadata file.\"\"\"\n",
    "    print(f\"[INFO] Loading image labels from {metadata_path}\")\n",
    "    print(f\"[INFO] Loading high-level image labels from {things_map_path}\")\n",
    "    meta = np.load(metadata_path, allow_pickle=True).item()\n",
    "    things_map = pd.read_csv(things_map_path, delimiter=\"\\t\")\n",
    "    files = meta['train_img_files']\n",
    "    concepts = meta['train_img_concepts']\n",
    "    things_concepts = meta['train_img_concepts_THINGS']\n",
    "    \n",
    "    # Create a mapping from full path to concept label\n",
    "    path_to_label = {}\n",
    "    for things_concept, concept, fname in zip(things_concepts, concepts, files):\n",
    "        # print(things_concept.split(\"_\")[0])\n",
    "        # print(things_map.iloc[int(things_concept.split(\"_\")[0]) + 1])\n",
    "        row = things_map.iloc[int(things_concept.split(\"_\")[0]) - 1]\n",
    "        high_concept = str(things_map.columns[row == 1][0]) if not (row == 0).all() else 'miscellaneous'\n",
    "        path_key = os.path.join(concept, fname)\n",
    "        path_to_label[path_key] = high_concept\n",
    "        \n",
    "    return path_to_label"
   ]
  },
  {
   "cell_type": "code",
   "execution_count": 5,
   "id": "1b190a0a-7768-41a3-850c-c97da68866ba",
   "metadata": {},
   "outputs": [],
   "source": [
    "METADATA_PATH = r'/scratch/vjh9526/bdml_2025/project/datasets/THINGS-EEG/image_set/image_metadata.npy'\n",
    "THINGS_MAP_PATH = r\"/scratch/vjh9526/bdml_2025/project/datasets/THINGS-EEG/image_set/category27_top-down.tsv\""
   ]
  },
  {
   "cell_type": "code",
   "execution_count": 8,
   "id": "ecadf671-37da-4d24-8402-bbffac4b1c05",
   "metadata": {},
   "outputs": [
    {
     "name": "stdout",
     "output_type": "stream",
     "text": [
      "[INFO] Loading image labels from /scratch/vjh9526/bdml_2025/project/datasets/THINGS-EEG/image_set/image_metadata.npy\n",
      "[INFO] Loading high-level image labels from /scratch/vjh9526/bdml_2025/project/datasets/THINGS-EEG/image_set/category27_top-down.tsv\n"
     ]
    }
   ],
   "source": [
    "maps = load_image_labels(METADATA_PATH, THINGS_MAP_PATH)"
   ]
  },
  {
   "cell_type": "code",
   "execution_count": 10,
   "id": "6c769406-66cd-415c-a528-19374229d36b",
   "metadata": {},
   "outputs": [
    {
     "data": {
      "text/plain": [
       "(16540, 16540)"
      ]
     },
     "execution_count": 10,
     "metadata": {},
     "output_type": "execute_result"
    }
   ],
   "source": [
    "len(maps.keys()), len(maps.values())"
   ]
  },
  {
   "cell_type": "code",
   "execution_count": 13,
   "id": "6a17ee0b-2664-43a1-90ff-1fee44820c47",
   "metadata": {},
   "outputs": [
    {
     "name": "stdout",
     "output_type": "stream",
     "text": [
      "Counter({'miscellaneous': 8790, 'animal': 1370, 'food': 1220, 'container': 1190, 'clothing': 800, 'tool': 440, 'fruit': 380, 'plant': 320, 'body part': 310, 'furniture': 270, 'musical instrument': 260, 'toy': 220, 'vegetable': 210, 'vehicle': 190, 'sports equipment': 180, 'weapon': 160, 'dessert': 90, 'kitchen appliance': 90, 'electronic device': 50})\n"
     ]
    }
   ],
   "source": [
    "from collections import Counter\n",
    "\n",
    "counter = Counter(list(maps.values()))\n",
    "print(counter)"
   ]
  },
  {
   "cell_type": "code",
   "execution_count": 14,
   "id": "4afbd204-d87f-4779-b3bb-6b4649ac4383",
   "metadata": {},
   "outputs": [
    {
     "data": {
      "text/plain": [
       "53.14389359129383"
      ]
     },
     "execution_count": 14,
     "metadata": {},
     "output_type": "execute_result"
    }
   ],
   "source": [
    "counter['miscellaneous'] * 100 / len(maps.values())"
   ]
  },
  {
   "cell_type": "code",
   "execution_count": null,
   "id": "d1876f9b-8374-4c68-8725-0b4eb8bb2c96",
   "metadata": {},
   "outputs": [],
   "source": []
  }
 ],
 "metadata": {
  "kernelspec": {
   "display_name": "my_env",
   "language": "python",
   "name": "my_env"
  },
  "language_info": {
   "codemirror_mode": {
    "name": "ipython",
    "version": 3
   },
   "file_extension": ".py",
   "mimetype": "text/x-python",
   "name": "python",
   "nbconvert_exporter": "python",
   "pygments_lexer": "ipython3",
   "version": "3.11.10"
  }
 },
 "nbformat": 4,
 "nbformat_minor": 5
}
